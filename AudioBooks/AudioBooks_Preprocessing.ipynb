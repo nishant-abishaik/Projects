{
 "cells": [
  {
   "cell_type": "markdown",
   "source": [
    "# Audiobooks business case"
   ],
   "metadata": {}
  },
  {
   "cell_type": "markdown",
   "source": [
    "### Problem\r\n",
    "\r\n",
    "We are given data from an Audiobook App. Logically, it relates to the audio versions of books ONLY. Each customer in the database has made a purchase at least once, that's why he/she is in the database. We want to create a machine learning algorithm based on our available data that can predict if a customer will buy again from the Audiobook company.\r\n",
    "\r\n",
    "The main idea is that if a customer has a low probability of coming back, there is no reason to spend any money on advertising to him/her. If we can focus our efforts SOLELY on customers that are likely to convert again, we can make great savings. Moreover, this model can identify the most important metrics for a customer to come back again. Identifying new customers creates value and growth opportunities.\r\n",
    "\r\n",
    "We have a .csv summarizing the data. There are several variables: Customer ID, ), Book length overall (sum of the minute length of all purchases), Book length avg (average length in minutes of all purchases), Price paid_overall (sum of all purchases) ,Price Paid avg (average of all purchases), Review (a Boolean variable whether the customer left a review), Review out of 10 (if the customer left a review, his/her review out of 10, Total minutes listened, Completion (from 0 to 1), Support requests (number of support requests; everything from forgotten password to assistance for using the App), and Last visited minus purchase date (in days).\r\n",
    "\r\n",
    "These are the inputs (excluding customer ID, as it is completely arbitrary. It's more like a name, than a number).\r\n",
    "\r\n",
    "The targets are a Boolean variable (0 or 1). We are taking a period of 2 years in our inputs, and the next 6 months as targets. So, in fact, we are predicting if: based on the last 2 years of activity and engagement, a customer will convert in the next 6 months. 6 months sounds like a reasonable time. If they don't convert after 6 months, chances are they've gone to a competitor or didn't like the Audiobook way of digesting information. \r\n",
    "\r\n",
    "The task is simple: create a machine learning algorithm, which is able to predict if a customer will buy again. \r\n",
    "\r\n",
    "This is a classification problem with two classes: won't buy and will buy, represented by 0s and 1s. \r\n",
    "\r\n"
   ],
   "metadata": {}
  },
  {
   "cell_type": "markdown",
   "source": [
    "## Preprocess the data. Balance the dataset. Create 3 datasets: training, validation, and test. Save the newly created sets in a tensor friendly format (e.g. *.npz)\n",
    "\n",
    "Since we are dealing with real life data, we will need to preprocess it a bit. This is the relevant code, which is not that hard, but is crucial to creating a good model.\n",
    "\n",
    "If you want to know how to do that, go through the code with comments. In any case, this should do the trick for most datasets organized in the way: many inputs, and then 1 cell containing the targets (supersized learning datasets). Keep in mind that a specific problem may require additional preprocessing.\n",
    "\n",
    "Note that we have removed the header row, which contains the names of the categories. We simply want the data."
   ],
   "metadata": {}
  },
  {
   "cell_type": "markdown",
   "source": [
    "### Extract the data from the csv"
   ],
   "metadata": {}
  },
  {
   "cell_type": "code",
   "execution_count": 2,
   "source": [
    "import numpy as np\r\n",
    "\r\n",
    "# We will use the sklearn preprocessing library, as it will be easier to standardize the data.\r\n",
    "from sklearn import preprocessing\r\n",
    "\r\n",
    "# Load the data\r\n",
    "raw_csv_data = np.loadtxt('Data\\Audiobooks_data.csv',delimiter=',')\r\n",
    "\r\n",
    "# The inputs are all columns in the csv, except for the first one [:,0]\r\n",
    "# (which is just the arbitrary customer IDs that bear no useful information),\r\n",
    "# and the last one [:,-1] (which is our targets)\r\n",
    "\r\n",
    "unscaled_inputs_all = raw_csv_data[:,1:-1]\r\n",
    "\r\n",
    "# The targets are in the last column. That's how datasets are conventionally organized.\r\n",
    "targets_all = raw_csv_data[:,-1]"
   ],
   "outputs": [],
   "metadata": {
    "collapsed": false
   }
  },
  {
   "cell_type": "markdown",
   "source": [
    "### Balance the dataset"
   ],
   "metadata": {}
  },
  {
   "cell_type": "code",
   "execution_count": 3,
   "source": [
    "# Count how many targets are 1 (meaning that the customer did convert)\r\n",
    "num_one_targets = int(np.sum(targets_all))\r\n",
    "\r\n",
    "# Set a counter for targets that are 0 (meaning that the customer did not convert)\r\n",
    "zero_targets_counter = 0\r\n",
    "\r\n",
    "# We want to create a \"balanced\" dataset, so we will have to remove some input/target pairs.\r\n",
    "# Declare a variable that will do that:\r\n",
    "indices_to_remove = []\r\n",
    "\r\n",
    "# Count the number of targets that are 0. \r\n",
    "# Once there are as many 0s as 1s, mark entries where the target is 0.\r\n",
    "for i in range(targets_all.shape[0]):\r\n",
    "    if targets_all[i] == 0:\r\n",
    "        zero_targets_counter += 1\r\n",
    "        if zero_targets_counter > num_one_targets:\r\n",
    "            indices_to_remove.append(i)\r\n",
    "\r\n",
    "# Create two new variables, one that will contain the inputs, and one that will contain the targets.\r\n",
    "# We delete all indices that we marked \"to remove\" in the loop above.\r\n",
    "unscaled_inputs_equal_priors = np.delete(unscaled_inputs_all, indices_to_remove, axis=0)\r\n",
    "targets_equal_priors = np.delete(targets_all, indices_to_remove, axis=0)"
   ],
   "outputs": [],
   "metadata": {
    "collapsed": true
   }
  },
  {
   "cell_type": "markdown",
   "source": [
    "### Standardize the inputs"
   ],
   "metadata": {}
  },
  {
   "cell_type": "code",
   "execution_count": 4,
   "source": [
    "# That's the only place we use sklearn functionality. We will take advantage of its preprocessing capabilities\r\n",
    "# It's a simple line of code, which standardizes the inputs, as we explained in one of the lectures.\r\n",
    "# At the end of the business case, you can try to run the algorithm WITHOUT this line of code. \r\n",
    "# The result will be interesting.\r\n",
    "scaled_inputs = preprocessing.scale(unscaled_inputs_equal_priors)"
   ],
   "outputs": [],
   "metadata": {
    "collapsed": false
   }
  },
  {
   "cell_type": "markdown",
   "source": [
    "### Shuffle the data"
   ],
   "metadata": {}
  },
  {
   "cell_type": "code",
   "execution_count": 5,
   "source": [
    "# When the data was collected it was actually arranged by date\r\n",
    "# Shuffle the indices of the data, so the data is not arranged in any way when we feed it.\r\n",
    "# Since we will be batching, we want the data to be as randomly spread out as possible\r\n",
    "shuffled_indices = np.arange(scaled_inputs.shape[0])\r\n",
    "np.random.shuffle(shuffled_indices)\r\n",
    "\r\n",
    "# Use the shuffled indices to shuffle the inputs and targets.\r\n",
    "shuffled_inputs = scaled_inputs[shuffled_indices]\r\n",
    "shuffled_targets = targets_equal_priors[shuffled_indices]"
   ],
   "outputs": [],
   "metadata": {
    "collapsed": true
   }
  },
  {
   "cell_type": "markdown",
   "source": [
    "### Split the dataset into train, validation, and test"
   ],
   "metadata": {}
  },
  {
   "cell_type": "code",
   "execution_count": 6,
   "source": [
    "# Count the total number of samples\r\n",
    "samples_count = shuffled_inputs.shape[0]\r\n",
    "\r\n",
    "# Count the samples in each subset, assuming we want 80-10-10 distribution of training, validation, and test.\r\n",
    "# Naturally, the numbers are integers.\r\n",
    "train_samples_count = int(0.8 * samples_count)\r\n",
    "validation_samples_count = int(0.1 * samples_count)\r\n",
    "\r\n",
    "# The 'test' dataset contains all remaining data.\r\n",
    "test_samples_count = samples_count - train_samples_count - validation_samples_count\r\n",
    "\r\n",
    "# Create variables that record the inputs and targets for training\r\n",
    "# In our shuffled dataset, they are the first \"train_samples_count\" observations\r\n",
    "train_inputs = shuffled_inputs[:train_samples_count]\r\n",
    "train_targets = shuffled_targets[:train_samples_count]\r\n",
    "\r\n",
    "# Create variables that record the inputs and targets for validation.\r\n",
    "# They are the next \"validation_samples_count\" observations, folllowing the \"train_samples_count\" we already assigned\r\n",
    "validation_inputs = shuffled_inputs[train_samples_count:train_samples_count+validation_samples_count]\r\n",
    "validation_targets = shuffled_targets[train_samples_count:train_samples_count+validation_samples_count]\r\n",
    "\r\n",
    "# Create variables that record the inputs and targets for test.\r\n",
    "# They are everything that is remaining.\r\n",
    "test_inputs = shuffled_inputs[train_samples_count+validation_samples_count:]\r\n",
    "test_targets = shuffled_targets[train_samples_count+validation_samples_count:]\r\n",
    "\r\n",
    "# We balanced our dataset to be 50-50 (for targets 0 and 1), but the training, validation, and test were \r\n",
    "# taken from a shuffled dataset. Check if they are balanced, too. Note that each time you rerun this code, \r\n",
    "# you will get different values, as each time they are shuffled randomly.\r\n",
    "# Normally you preprocess ONCE, so you need not rerun this code once it is done.\r\n",
    "# If you rerun this whole sheet, the npzs will be overwritten with your newly preprocessed data.\r\n",
    "\r\n",
    "# Print the number of targets that are 1s, the total number of samples, and the proportion for training, validation, and test.\r\n",
    "print(np.sum(train_targets), train_samples_count, np.sum(train_targets) / train_samples_count)\r\n",
    "print(np.sum(validation_targets), validation_samples_count, np.sum(validation_targets) / validation_samples_count)\r\n",
    "print(np.sum(test_targets), test_samples_count, np.sum(test_targets) / test_samples_count)"
   ],
   "outputs": [
    {
     "output_type": "stream",
     "name": "stdout",
     "text": [
      "1802.0 3579 0.5034925956971221\n",
      "214.0 447 0.47874720357941836\n",
      "221.0 448 0.49330357142857145\n"
     ]
    }
   ],
   "metadata": {
    "collapsed": false
   }
  },
  {
   "cell_type": "markdown",
   "source": [
    "### Save the three datasets in *.npz"
   ],
   "metadata": {}
  },
  {
   "cell_type": "code",
   "execution_count": 7,
   "source": [
    "# Save the three datasets in *.npz.\r\n",
    "\r\n",
    "\r\n",
    "np.savez('Preprocessed_Data\\Audiobooks_data_train', inputs=train_inputs, targets=train_targets)\r\n",
    "np.savez('Preprocessed_Data\\Audiobooks_data_validation', inputs=validation_inputs, targets=validation_targets)\r\n",
    "np.savez('Preprocessed_Data\\Audiobooks_data_test', inputs=test_inputs, targets=test_targets)"
   ],
   "outputs": [],
   "metadata": {
    "collapsed": true
   }
  }
 ],
 "metadata": {
  "kernelspec": {
   "name": "python3",
   "display_name": "Python 3.9.5 64-bit"
  },
  "language_info": {
   "codemirror_mode": {
    "name": "ipython",
    "version": 3
   },
   "file_extension": ".py",
   "mimetype": "text/x-python",
   "name": "python",
   "nbconvert_exporter": "python",
   "pygments_lexer": "ipython3",
   "version": "3.9.5"
  },
  "interpreter": {
   "hash": "ac59ebe37160ed0dfa835113d9b8498d9f09ceb179beaac4002f036b9467c963"
  }
 },
 "nbformat": 4,
 "nbformat_minor": 2
}