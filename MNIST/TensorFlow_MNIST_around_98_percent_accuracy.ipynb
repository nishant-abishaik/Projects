{
 "cells": [
  {
   "cell_type": "markdown",
   "source": [
    "Achieving 98.5% accuracy with the methodology we've seen so far is extremely hard. A more realistic exercise would be to achieve 98%+ accuracy. However, being pushed to the limit (trying to achieve 98.5%), you have probably learned a whole lot about the machine learning process.\r\n",
    "\r\n",
    "MNIST research methodologies:\r\n",
    "https://rodrigob.github.io/are_we_there_yet/build/classification_datasets_results\r\n",
    "\r\n",
    "After some fine tuning, I decided to brute-force the algorithm and created 10 hidden layers with 5000 hidden units each. \r\n",
    "\r\n",
    "    hidden_layer_size = 5000\r\n",
    "    batch_size = 150\r\n",
    "    NUM_EPOCHS = 10\r\n",
    "    \r\n",
    "All activation functions are ReLu.\r\n",
    "\r\n",
    "There are better solutions using this methodology. Due to the width and the depth of the algorithm, it took my computer 3 hours and 50 mins to train it."
   ],
   "metadata": {}
  },
  {
   "cell_type": "markdown",
   "source": [
    "# Deep Neural Network for MNIST Classification\r\n",
    "\r\n",
    "The problem chosen is referred to as the \"Hello World\" of deep learning because it is usually the first deep learning project most beginners start with.\r\n",
    "\r\n",
    "The dataset is called MNIST and refers to handwritten digit recognition.\r\n",
    "\r\n",
    "The dataset provides 70,000 images (28x28 pixels) of handwritten digits (1 digit per image). \r\n",
    "\r\n",
    "The goal is to write an algorithm that detects which digit is written. Since there are only 10 digits (0, 1, 2, 3, 4, 5, 6, 7, 8, 9), this is a classification problem with 10 classes. "
   ],
   "metadata": {}
  },
  {
   "cell_type": "markdown",
   "source": [
    "## Import the relevant packages"
   ],
   "metadata": {}
  },
  {
   "cell_type": "code",
   "execution_count": 1,
   "source": [
    "import numpy as np\r\n",
    "import tensorflow as tf\r\n",
    "\r\n",
    "# TensorFLow includes a data provider for MNIST that we'll use.\r\n",
    "# It comes with the tensorflow-datasets module, therefore, if you haven't please install the package using\r\n",
    "# pip install tensorflow-datasets \r\n",
    "# or\r\n",
    "# conda install tensorflow-datasets\r\n",
    "\r\n",
    "import tensorflow_datasets as tfds\r\n",
    "\r\n",
    "# these datasets will be stored in C:\\Users\\*USERNAME*\\tensorflow_datasets\\...\r\n",
    "# the first time you download a dataset, it is stored in the respective folder \r\n",
    "# every other time, it is automatically loading the copy on your computer "
   ],
   "outputs": [],
   "metadata": {}
  },
  {
   "cell_type": "markdown",
   "source": [
    "## Data\n",
    "\n",
    "That's where we load and preprocess our data."
   ],
   "metadata": {}
  },
  {
   "cell_type": "code",
   "execution_count": 2,
   "source": [
    "# remember the comment from above\r\n",
    "# these datasets will be stored in C:\\Users\\*USERNAME*\\tensorflow_datasets\\...\r\n",
    "# the first time you download a dataset, it is stored in the respective folder \r\n",
    "# every other time, it is automatically loading the copy on your computer \r\n",
    "\r\n",
    "# tfds.load actually loads a dataset (or downloads and then loads if that's the first time you use it) \r\n",
    "# in our case, we are interesteed in the MNIST; the name of the dataset is the only mandatory argument\r\n",
    "# there are other arguments we can specify, which we can find useful\r\n",
    "# mnist_dataset = tfds.load(name='mnist', as_supervised=True)\r\n",
    "mnist_dataset, mnist_info = tfds.load(name='mnist', with_info=True, as_supervised=True)\r\n",
    "# with_info=True will also provide us with a tuple containing information about the version, features, number of samples\r\n",
    "# we will use this information a bit below and we will store it in mnist_info\r\n",
    "\r\n",
    "# as_supervised=True will load the dataset in a 2-tuple structure (input, target) \r\n",
    "# alternatively, as_supervised=False, would return a dictionary\r\n",
    "# obviously we prefer to have our inputs and targets separated \r\n",
    "\r\n",
    "# once we have loaded the dataset, we can easily extract the training and testing dataset with the built references\r\n",
    "mnist_train, mnist_test = mnist_dataset['train'], mnist_dataset['test']\r\n",
    "\r\n",
    "# by default, TF has training and testing datasets, but no validation sets\r\n",
    "# thus we must split it on our own\r\n",
    "\r\n",
    "# we start by defining the number of validation samples as a % of the train samples\r\n",
    "# this is also where we make use of mnist_info (we don't have to count the observations)\r\n",
    "num_validation_samples = 0.1 * mnist_info.splits['train'].num_examples\r\n",
    "# let's cast this number to an integer, as a float may cause an error along the way\r\n",
    "num_validation_samples = tf.cast(num_validation_samples, tf.int64)\r\n",
    "\r\n",
    "# let's also store the number of test samples in a dedicated variable (instead of using the mnist_info one)\r\n",
    "num_test_samples = mnist_info.splits['test'].num_examples\r\n",
    "# once more, we'd prefer an integer (rather than the default float)\r\n",
    "num_test_samples = tf.cast(num_test_samples, tf.int64)\r\n",
    "\r\n",
    "\r\n",
    "# normally, we would like to scale our data in some way to make the result more numerically stable\r\n",
    "# in this case we will simply prefer to have inputs between 0 and 1\r\n",
    "# let's define a function called: scale, that will take an MNIST image and its label\r\n",
    "def scale(image, label):\r\n",
    "    # we make sure the value is a float\r\n",
    "    image = tf.cast(image, tf.float32)\r\n",
    "    # since the possible values for the inputs are 0 to 255 (256 different shades of grey)\r\n",
    "    # if we divide each element by 255, we would get the desired result -> all elements will be between 0 and 1 \r\n",
    "    image /= 255.\r\n",
    "\r\n",
    "    return image, label\r\n",
    "\r\n",
    "\r\n",
    "# the method .map() allows us to apply a custom transformation to a given dataset\r\n",
    "# we have already decided that we will get the validation data from mnist_train, so \r\n",
    "scaled_train_and_validation_data = mnist_train.map(scale)\r\n",
    "\r\n",
    "# finally, we scale and batch the test data\r\n",
    "# we scale it so it has the same magnitude as the train and validation\r\n",
    "# there is no need to shuffle it, because we won't be training on the test data\r\n",
    "# there would be a single batch, equal to the size of the test data\r\n",
    "test_data = mnist_test.map(scale)\r\n",
    "\r\n",
    "\r\n",
    "# let's also shuffle the data\r\n",
    "\r\n",
    "BUFFER_SIZE = 10000\r\n",
    "# this BUFFER_SIZE parameter is here for cases when we're dealing with enormous datasets\r\n",
    "# then we can't shuffle the whole dataset in one go because we can't fit it all in memory\r\n",
    "# so instead TF only stores BUFFER_SIZE samples in memory at a time and shuffles them\r\n",
    "# if BUFFER_SIZE=1 => no shuffling will actually happen\r\n",
    "# if BUFFER_SIZE >= num samples => shuffling is uniform\r\n",
    "# BUFFER_SIZE in between - a computational optimization to approximate uniform shuffling\r\n",
    "\r\n",
    "# luckily for us, there is a shuffle method readily available and we just need to specify the buffer size\r\n",
    "shuffled_train_and_validation_data = scaled_train_and_validation_data.shuffle(BUFFER_SIZE)\r\n",
    "\r\n",
    "# once we have scaled and shuffled the data, we can proceed to actually extracting the train and validation\r\n",
    "# our validation data would be equal to 10% of the training set, which we've already calculated\r\n",
    "# we use the .take() method to take that many samples\r\n",
    "# finally, we create a batch with a batch size equal to the total number of validation samples\r\n",
    "validation_data = shuffled_train_and_validation_data.take(num_validation_samples)\r\n",
    "\r\n",
    "# similarly, the train_data is everything else, so we skip as many samples as there are in the validation dataset\r\n",
    "train_data = shuffled_train_and_validation_data.skip(num_validation_samples)\r\n",
    "\r\n",
    "# determine the batch size\r\n",
    "BATCH_SIZE = 150\r\n",
    "\r\n",
    "# we can also take advantage of the occasion to batch the train data\r\n",
    "# this would be very helpful when we train, as we would be able to iterate over the different batches\r\n",
    "train_data = train_data.batch(BATCH_SIZE)\r\n",
    "\r\n",
    "validation_data = validation_data.batch(num_validation_samples)\r\n",
    "\r\n",
    "# batch the test data\r\n",
    "test_data = test_data.batch(num_test_samples)\r\n",
    "\r\n",
    "\r\n",
    "# takes next batch (it is the only batch)\r\n",
    "# because as_supervized=True, we've got a 2-tuple structure\r\n",
    "validation_inputs, validation_targets = next(iter(validation_data))"
   ],
   "outputs": [],
   "metadata": {}
  },
  {
   "cell_type": "markdown",
   "source": [
    "## Model"
   ],
   "metadata": {}
  },
  {
   "cell_type": "markdown",
   "source": [
    "### Outline the model\r\n",
    "When thinking about a deep learning algorithm, we mostly imagine building the model."
   ],
   "metadata": {}
  },
  {
   "cell_type": "code",
   "execution_count": 3,
   "source": [
    "input_size = 784\r\n",
    "output_size = 10\r\n",
    "# Use same hidden layer size for both hidden layers. Not a necessity.\r\n",
    "hidden_layer_size = 5000\r\n",
    "    \r\n",
    "# define how the model will look like\r\n",
    "model = tf.keras.Sequential([\r\n",
    "    \r\n",
    "    # the first layer (the input layer)\r\n",
    "    # each observation is 28x28x1 pixels, therefore it is a tensor of rank 3\r\n",
    "    # since we don't know CNNs yet, we don't know how to feed such input into our net, so we must flatten the images\r\n",
    "    # there is a convenient method 'Flatten' that simply takes our 28x28x1 tensor and orders it into a (None,) \r\n",
    "    # or (28x28x1,) = (784,) vector\r\n",
    "    # this allows us to actually create a feed forward neural network\r\n",
    "    tf.keras.layers.Flatten(input_shape=(28, 28, 1)), # input layer\r\n",
    "    \r\n",
    "    # tf.keras.layers.Dense is basically implementing: output = activation(dot(input, weight) + bias)\r\n",
    "    # it takes several arguments, but the most important ones for us are the hidden_layer_size and the activation function\r\n",
    "    tf.keras.layers.Dense(hidden_layer_size, activation='relu'), # 1st hidden layer\r\n",
    "    tf.keras.layers.Dense(hidden_layer_size, activation='relu'), # 2nd hidden layer\r\n",
    "    tf.keras.layers.Dense(hidden_layer_size, activation='relu'), # 3rd hidden layer\r\n",
    "    tf.keras.layers.Dense(hidden_layer_size, activation='relu'), # 4th hidden layer\r\n",
    "    tf.keras.layers.Dense(hidden_layer_size, activation='relu'), # 5th hidden layer\r\n",
    "    tf.keras.layers.Dense(hidden_layer_size, activation='relu'), # 6th hidden layer\r\n",
    "    tf.keras.layers.Dense(hidden_layer_size, activation='relu'), # 7th hidden layer\r\n",
    "    tf.keras.layers.Dense(hidden_layer_size, activation='relu'), # 8th hidden layer\r\n",
    "    tf.keras.layers.Dense(hidden_layer_size, activation='relu'), # 9th hidden layer\r\n",
    "    tf.keras.layers.Dense(hidden_layer_size, activation='relu'), # 10th hidden layer\r\n",
    "    \r\n",
    "    # the final layer is no different, we just make sure to activate it with softmax\r\n",
    "    tf.keras.layers.Dense(output_size, activation='softmax') # output layer\r\n",
    "])"
   ],
   "outputs": [],
   "metadata": {}
  },
  {
   "cell_type": "markdown",
   "source": [
    "### Choose the optimizer and the loss function"
   ],
   "metadata": {}
  },
  {
   "cell_type": "code",
   "execution_count": null,
   "source": [
    "# we define the optimizer we'd like to use, \r\n",
    "# the loss function, \r\n",
    "# and the metrics we are interested in obtaining at each iteration\r\n",
    "model.compile(optimizer='adam', loss='sparse_categorical_crossentropy', metrics=['accuracy'])"
   ],
   "outputs": [],
   "metadata": {}
  },
  {
   "cell_type": "markdown",
   "source": [
    "### Training\n",
    "That's where we train the model we have built."
   ],
   "metadata": {}
  },
  {
   "cell_type": "code",
   "execution_count": null,
   "source": [
    "# determine the maximum number of epochs\r\n",
    "NUM_EPOCHS = 10\r\n",
    "\r\n",
    "# we fit the model, specifying the\r\n",
    "# training data\r\n",
    "# the total number of epochs\r\n",
    "# and the validation data we just created ourselves in the format: (inputs,targets)\r\n",
    "model.fit(train_data, epochs=NUM_EPOCHS, validation_data=(validation_inputs, validation_targets), verbose =2)"
   ],
   "outputs": [
    {
     "output_type": "stream",
     "name": "stdout",
     "text": [
      "Epoch 1/10\n",
      "360/360 - 851s - loss: 1.3044 - accuracy: 0.5134 - val_loss: 0.0000e+00 - val_accuracy: 0.0000e+00\n",
      "Epoch 2/10\n"
     ]
    }
   ],
   "metadata": {}
  },
  {
   "cell_type": "code",
   "execution_count": null,
   "source": [
    "test_loss, test_accuracy = model.evaluate(test_data)"
   ],
   "outputs": [],
   "metadata": {}
  },
  {
   "cell_type": "code",
   "execution_count": null,
   "source": [
    "# We can apply some nice formatting if we want to\r\n",
    "print('Test loss: {0:.2f}. Test accuracy: {1:.2f}%'.format(test_loss, test_accuracy*100.))"
   ],
   "outputs": [],
   "metadata": {}
  }
 ],
 "metadata": {
  "kernelspec": {
   "display_name": "Python [conda env:py3-TF2.0]",
   "language": "python",
   "name": "conda-env-py3-TF2.0-py"
  },
  "language_info": {
   "codemirror_mode": {
    "name": "ipython",
    "version": 3
   },
   "file_extension": ".py",
   "mimetype": "text/x-python",
   "name": "python",
   "nbconvert_exporter": "python",
   "pygments_lexer": "ipython3",
   "version": "3.7.3"
  }
 },
 "nbformat": 4,
 "nbformat_minor": 2
}